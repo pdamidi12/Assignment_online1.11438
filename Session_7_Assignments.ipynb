{
 "cells": [
  {
   "cell_type": "code",
   "execution_count": 1,
   "metadata": {},
   "outputs": [
    {
     "name": "stdout",
     "output_type": "stream",
     "text": [
      "moving average in [3, 5, 7, 2, 8, 10, 11, 65, 72, 81, 99, 100, 150] over window of 3 : \n",
      "[  5.           4.66666667   5.66666667   6.66666667   9.66666667\n",
      "  28.66666667  49.33333333  72.66666667  84.          93.33333333\n",
      " 116.33333333]\n"
     ]
    }
   ],
   "source": [
    "#Write a function to find moving average in an array over a window:\n",
    "#Test it over [3, 5, 7, 2, 8, 10, 11, 65, 72, 81, 99, 100, 150] and window of 3.\n",
    "\n",
    "import numpy as np\n",
    "\n",
    "def moving_avg(values,window):\n",
    "    weight = np.repeat(1.0,window)/window\n",
    "    sma = np.convolve(values,weight,'valid')\n",
    "    return sma\n",
    "\n",
    "x = [3, 5, 7, 2, 8, 10, 11, 65, 72, 81, 99, 100, 150]\n",
    "print (\"moving average in {} over window of 3 : \\n{}\".format(x, moving_avg(x,3)))"
   ]
  },
  {
   "cell_type": "code",
   "execution_count": 2,
   "metadata": {},
   "outputs": [
    {
     "name": "stdout",
     "output_type": "stream",
     "text": [
      "[5, 4, 5, 6, 9, 28, 49, 72, 84, 93, 116, 150]\n"
     ]
    }
   ],
   "source": [
    "#Given a sequence of n values x1, x2, ..., xn and a window size k>0, the k-th moving average of the given sequence is defined as follows: The moving average sequence has n-k+1 elements as shown below. The moving averages with k=4 of a ten-value sequence (n=10) is shown below i 1 2 3 4 5 6 7 8 9 10 \n",
    "#Input 10 20 30 40 50 60 70 80 90 100 \n",
    "#y1 25 = (10+20+30+40)/4  \n",
    "#y2 35 = (20+30+40+50)/4  \n",
    "#y3 45 = (30+40+50+60)/4  \n",
    "#y4 55 = (40+50+60+70)/4 \n",
    "#y5 65 = (50+60+70+80)/4  \n",
    "#y6 75 = (60+70+80+90)/4 y7 85 = (70+80+90+100)/4\n",
    "\n",
    "#Thus, the moving average sequence has n-k+1=10-4+1=7 values.\n",
    "\n",
    "def movavg(lst,k): \n",
    "    x=len(lst)-k+1 \n",
    "    y=[] \n",
    "    for i in range(x): \n",
    "        sum=0 \n",
    "        for j in range(k): \n",
    "            sum +=lst[i+j] \n",
    "        z=sum/k \n",
    "        y.append(int(z)) \n",
    "    print(y)\n",
    "\n",
    "lst1=[3, 5, 7, 2, 8, 10, 11, 65, 72, 81, 99, 100, 150,200] \n",
    "movavg(lst1,3)"
   ]
  }
 ],
 "metadata": {
  "kernelspec": {
   "display_name": "Python 3",
   "language": "python",
   "name": "python3"
  },
  "language_info": {
   "codemirror_mode": {
    "name": "ipython",
    "version": 3
   },
   "file_extension": ".py",
   "mimetype": "text/x-python",
   "name": "python",
   "nbconvert_exporter": "python",
   "pygments_lexer": "ipython3",
   "version": "3.6.5"
  }
 },
 "nbformat": 4,
 "nbformat_minor": 2
}
