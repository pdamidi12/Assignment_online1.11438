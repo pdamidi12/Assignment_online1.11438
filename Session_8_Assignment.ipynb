{
 "cells": [
  {
   "cell_type": "code",
   "execution_count": 9,
   "metadata": {},
   "outputs": [
    {
     "data": {
      "text/plain": [
       "0    1\n",
       "1    2\n",
       "2    2\n",
       "3    3\n",
       "4    4\n",
       "5    5\n",
       "6    6\n",
       "7    6\n",
       "8    7\n",
       "9    8\n",
       "Name: X, dtype: int32"
      ]
     },
     "execution_count": 9,
     "metadata": {},
     "output_type": "execute_result"
    }
   ],
   "source": [
    "#How-to-count-distance-to-the-previous-zero\n",
    "#For each value, count the difference back to the previous zero (or the start of the Series,\n",
    "#whichever is closer)\n",
    "#create a new column 'Y' =[1,2,0,1,2,3,4,0,1,2]\n",
    "import numpy as np\n",
    "import pandas as pd\n",
    "df = pd.DataFrame({'X': [7, 2, 0, 3, 4, 2, 5, 0, 3, 4]})\n",
    "x = (df['X'] != 0).cumsum()\n",
    "x"
   ]
  },
  {
   "cell_type": "code",
   "execution_count": 10,
   "metadata": {},
   "outputs": [
    {
     "data": {
      "text/plain": [
       "2015-01-01    0.706126\n",
       "2015-01-02    0.652197\n",
       "2015-01-05    0.737590\n",
       "2015-01-06    0.558531\n",
       "2015-01-07    0.877972\n",
       "2015-01-08    0.776192\n",
       "2015-01-09    0.869163\n",
       "2015-01-12    0.600316\n",
       "2015-01-13    0.527511\n",
       "2015-01-14    0.070419\n",
       "2015-01-15    0.276501\n",
       "2015-01-16    0.114733\n",
       "2015-01-19    0.169670\n",
       "2015-01-20    0.384519\n",
       "2015-01-21    0.840054\n",
       "2015-01-22    0.694026\n",
       "2015-01-23    0.957831\n",
       "2015-01-26    0.757005\n",
       "2015-01-27    0.557433\n",
       "2015-01-28    0.225765\n",
       "2015-01-29    0.940039\n",
       "2015-01-30    0.673054\n",
       "2015-02-02    0.831052\n",
       "2015-02-03    0.320475\n",
       "2015-02-04    0.385269\n",
       "2015-02-05    0.147028\n",
       "2015-02-06    0.103295\n",
       "2015-02-09    0.027016\n",
       "2015-02-10    0.948028\n",
       "2015-02-11    0.119768\n",
       "                ...   \n",
       "2015-11-20    0.199316\n",
       "2015-11-23    0.513021\n",
       "2015-11-24    0.921115\n",
       "2015-11-25    0.641216\n",
       "2015-11-26    0.116337\n",
       "2015-11-27    0.144476\n",
       "2015-11-30    0.655963\n",
       "2015-12-01    0.960517\n",
       "2015-12-02    0.467705\n",
       "2015-12-03    0.067567\n",
       "2015-12-04    0.298841\n",
       "2015-12-07    0.335827\n",
       "2015-12-08    0.233745\n",
       "2015-12-09    0.512866\n",
       "2015-12-10    0.044467\n",
       "2015-12-11    0.377130\n",
       "2015-12-14    0.919932\n",
       "2015-12-15    0.722414\n",
       "2015-12-16    0.744103\n",
       "2015-12-17    0.908668\n",
       "2015-12-18    0.595993\n",
       "2015-12-21    0.739381\n",
       "2015-12-22    0.073398\n",
       "2015-12-23    0.109126\n",
       "2015-12-24    0.369071\n",
       "2015-12-25    0.011465\n",
       "2015-12-28    0.461638\n",
       "2015-12-29    0.219325\n",
       "2015-12-30    0.236766\n",
       "2015-12-31    0.451604\n",
       "Freq: B, Length: 261, dtype: float64"
      ]
     },
     "execution_count": 10,
     "metadata": {},
     "output_type": "execute_result"
    }
   ],
   "source": [
    "#Create a DatetimeIndex that contains each business day of 2015 and use it to index a Series of random numbers.\n",
    "dti = pd.date_range(start='2015-01-01', end='2015-12-31', freq='B') \n",
    "s = pd.Series(np.random.rand(len(dti)), index=dti)\n",
    "s"
   ]
  },
  {
   "cell_type": "code",
   "execution_count": 11,
   "metadata": {},
   "outputs": [
    {
     "data": {
      "text/plain": [
       "26.77628342089013"
      ]
     },
     "execution_count": 11,
     "metadata": {},
     "output_type": "execute_result"
    }
   ],
   "source": [
    "#find the sum of the values in s for every wednesday\n",
    "s[dti.weekday == 2].sum()"
   ]
  },
  {
   "cell_type": "code",
   "execution_count": 12,
   "metadata": {},
   "outputs": [
    {
     "data": {
      "text/plain": [
       "2015-01-31    0.589393\n",
       "2015-02-28    0.549222\n",
       "2015-03-31    0.328040\n",
       "2015-04-30    0.577970\n",
       "2015-05-31    0.554061\n",
       "2015-06-30    0.444133\n",
       "2015-07-31    0.470266\n",
       "2015-08-31    0.565484\n",
       "2015-09-30    0.557790\n",
       "2015-10-31    0.447351\n",
       "2015-11-30    0.430508\n",
       "2015-12-31    0.428763\n",
       "Freq: M, dtype: float64"
      ]
     },
     "execution_count": 12,
     "metadata": {},
     "output_type": "execute_result"
    }
   ],
   "source": [
    "#Average foreach calendar month\n",
    "s.resample('M').mean()"
   ]
  },
  {
   "cell_type": "code",
   "execution_count": 13,
   "metadata": {},
   "outputs": [
    {
     "data": {
      "text/plain": [
       "2015-01-31   2015-01-23\n",
       "2015-05-31   2015-02-26\n",
       "2015-09-30   2015-07-28\n",
       "2016-01-31   2015-12-01\n",
       "dtype: datetime64[ns]"
      ]
     },
     "execution_count": 13,
     "metadata": {},
     "output_type": "execute_result"
    }
   ],
   "source": [
    "#for each group of four consecutive calender months in s, find the date on which highest value occurred\n",
    "s.groupby(pd.Grouper(freq='4M')).idxmax()"
   ]
  }
 ],
 "metadata": {
  "kernelspec": {
   "display_name": "Python 3",
   "language": "python",
   "name": "python3"
  },
  "language_info": {
   "codemirror_mode": {
    "name": "ipython",
    "version": 3
   },
   "file_extension": ".py",
   "mimetype": "text/x-python",
   "name": "python",
   "nbconvert_exporter": "python",
   "pygments_lexer": "ipython3",
   "version": "3.6.5"
  }
 },
 "nbformat": 4,
 "nbformat_minor": 2
}
